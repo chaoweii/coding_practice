{
  "nbformat": 4,
  "nbformat_minor": 0,
  "metadata": {
    "colab": {
      "name": "k_means.ipynb",
      "provenance": [],
      "collapsed_sections": [],
      "authorship_tag": "ABX9TyMGVYE2tDFxL2sSjQTWUxE5",
      "include_colab_link": true
    },
    "kernelspec": {
      "name": "python3",
      "display_name": "Python 3"
    },
    "language_info": {
      "name": "python"
    }
  },
  "cells": [
    {
      "cell_type": "markdown",
      "metadata": {
        "id": "view-in-github",
        "colab_type": "text"
      },
      "source": [
        "<a href=\"https://colab.research.google.com/github/chaoweii/coding_practice/blob/main/k_means.ipynb\" target=\"_parent\"><img src=\"https://colab.research.google.com/assets/colab-badge.svg\" alt=\"Open In Colab\"/></a>"
      ]
    },
    {
      "cell_type": "code",
      "metadata": {
        "id": "jCPCt4CcRIc_"
      },
      "source": [
        "# Assuming data is [(x0, y0), (x1, y1), .......]"
      ],
      "execution_count": null,
      "outputs": []
    },
    {
      "cell_type": "code",
      "metadata": {
        "id": "Xw-20V6HQToC"
      },
      "source": [
        "def kmeans(data, k, max_iter=10000):\n",
        "  centroids = initiate_centroids(data, k)\n",
        "\n",
        "  if max_iter:\n",
        "    i = 1\n",
        "  # update centroids until convergence\n",
        "    while i<max_iter:\n",
        "      prev_centroids = centroids\n",
        "      labels = get_label(data, centroids, k)\n",
        "      centroids = update_centroids(data, labels, k)\n",
        "\n",
        "      if should_stop(centroids, prev_centroids):\n",
        "        break\n",
        "      i += 1\n",
        "  \n",
        "  else:\n",
        "      while True:\n",
        "      prev_centroids = centroids\n",
        "      labels = get_label(data, centroids, k)\n",
        "      centroids = update_centroids(data, labels, k)\n",
        "\n",
        "      if should_stop(centroids, prev_centroids):\n",
        "        break\n",
        "    # assign labels given stable centroids\n",
        "\n",
        "  return label"
      ],
      "execution_count": null,
      "outputs": []
    }
  ]
}